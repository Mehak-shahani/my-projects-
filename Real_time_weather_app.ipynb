{
  "nbformat": 4,
  "nbformat_minor": 0,
  "metadata": {
    "colab": {
      "provenance": [],
      "authorship_tag": "ABX9TyMEPJzGZ1deL78XL3SqudHe",
      "include_colab_link": true
    },
    "kernelspec": {
      "name": "python3",
      "display_name": "Python 3"
    },
    "language_info": {
      "name": "python"
    }
  },
  "cells": [
    {
      "cell_type": "markdown",
      "metadata": {
        "id": "view-in-github",
        "colab_type": "text"
      },
      "source": [
        "<a href=\"https://colab.research.google.com/github/Mehak-shahani/my-projects-/blob/main/Real_time_weather_app.ipynb\" target=\"_parent\"><img src=\"https://colab.research.google.com/assets/colab-badge.svg\" alt=\"Open In Colab\"/></a>"
      ]
    },
    {
      "cell_type": "code",
      "execution_count": 1,
      "metadata": {
        "colab": {
          "base_uri": "https://localhost:8080/"
        },
        "id": "DYfiQv62xJOT",
        "outputId": "07b0838a-752f-46f3-8151-8adcf2f3ffd8"
      },
      "outputs": [
        {
          "output_type": "stream",
          "name": "stdout",
          "text": [
            "Requirement already satisfied: requests in /usr/local/lib/python3.11/dist-packages (2.32.3)\n",
            "Requirement already satisfied: charset-normalizer<4,>=2 in /usr/local/lib/python3.11/dist-packages (from requests) (3.4.1)\n",
            "Requirement already satisfied: idna<4,>=2.5 in /usr/local/lib/python3.11/dist-packages (from requests) (3.10)\n",
            "Requirement already satisfied: urllib3<3,>=1.21.1 in /usr/local/lib/python3.11/dist-packages (from requests) (2.3.0)\n",
            "Requirement already satisfied: certifi>=2017.4.17 in /usr/local/lib/python3.11/dist-packages (from requests) (2024.12.14)\n"
          ]
        }
      ],
      "source": [
        "!pip install requests\n"
      ]
    },
    {
      "cell_type": "code",
      "source": [
        "import requests\n",
        "import json\n"
      ],
      "metadata": {
        "id": "FFzy7YLYxR20"
      },
      "execution_count": 2,
      "outputs": []
    },
    {
      "cell_type": "code",
      "source": [
        "API_KEY = \"1e1e8c5cb61890f0b423a87afefe07ca\"  # Replace with your API key\n",
        "BASE_URL = \"http://api.openweathermap.org/data/2.5/weather\"\n"
      ],
      "metadata": {
        "id": "MITds3GGxW19"
      },
      "execution_count": 3,
      "outputs": []
    },
    {
      "cell_type": "code",
      "source": [
        "def fetch_weather(city_name):\n",
        "    \"\"\"\n",
        "    Fetch weather data for a given city from OpenWeatherMap API.\n",
        "    \"\"\"\n",
        "    # Build the full API request URL\n",
        "    url = f\"{BASE_URL}?q={city_name}&appid={API_KEY}&units=metric\"\n",
        "\n",
        "    try:\n",
        "        # Send the GET request\n",
        "        response = requests.get(url, timeout=5)\n",
        "        response.raise_for_status()  # Raise exception for HTTP errors\n",
        "\n",
        "        # Parse the JSON response\n",
        "        weather_data = response.json()\n",
        "\n",
        "        # Extract relevant weather information\n",
        "        city = weather_data['name']\n",
        "        country = weather_data['sys']['country']\n",
        "        temp = weather_data['main']['temp']\n",
        "        humidity = weather_data['main']['humidity']\n",
        "        description = weather_data['weather'][0]['description']\n",
        "\n",
        "        # Display the weather information\n",
        "        print(f\"\\nWeather in {city}, {country}:\")\n",
        "        print(f\"Temperature: {temp}°C\")\n",
        "        print(f\"Humidity: {humidity}%\")\n",
        "        print(f\"Condition: {description.capitalize()}\")\n",
        "\n",
        "    except requests.exceptions.RequestException as e:\n",
        "        print(f\"Error fetching weather data: {e}\")\n",
        "    except KeyError:\n",
        "        print(\"City not found. Please check the city name and try again.\")\n"
      ],
      "metadata": {
        "id": "z78Sx2mqy7Ug"
      },
      "execution_count": 5,
      "outputs": []
    },
    {
      "cell_type": "code",
      "source": [
        "def main():\n",
        "    print(\"Welcome to the Real-Time Weather App!\")\n",
        "    city_name = input(\"Enter the name of the city: \")\n",
        "    fetch_weather(city_name)\n",
        "\n",
        "if __name__ == \"__main__\":\n",
        "    main()\n"
      ],
      "metadata": {
        "colab": {
          "base_uri": "https://localhost:8080/"
        },
        "id": "0kfd-1wRzFb8",
        "outputId": "5e9f4825-6877-44e8-8aab-fa28c0e4eb71"
      },
      "execution_count": 10,
      "outputs": [
        {
          "output_type": "stream",
          "name": "stdout",
          "text": [
            "Welcome to the Real-Time Weather App!\n",
            "Enter the name of the city: karachi\n",
            "\n",
            "Weather in Karachi, PK:\n",
            "Temperature: 25.9°C\n",
            "Humidity: 31%\n",
            "Condition: Clear sky\n"
          ]
        }
      ]
    }
  ]
}